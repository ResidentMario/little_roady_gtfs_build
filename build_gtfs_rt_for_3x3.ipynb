{
 "cells": [
  {
   "cell_type": "code",
   "execution_count": 1,
   "metadata": {},
   "outputs": [],
   "source": [
    "import pandas as pd"
   ]
  },
  {
   "cell_type": "code",
   "execution_count": 188,
   "metadata": {},
   "outputs": [],
   "source": [
    "stop_times = pd.read_csv('/Users/alex/Downloads/LittleRoady_GTSF/stop_times.txt')"
   ]
  },
  {
   "cell_type": "code",
   "execution_count": 21,
   "metadata": {},
   "outputs": [],
   "source": [
    "stops = pd.read_csv('/Users/alex/Downloads/LittleRoady_GTSF/stops.txt')"
   ]
  },
  {
   "cell_type": "code",
   "execution_count": 59,
   "metadata": {},
   "outputs": [],
   "source": [
    "stop_names = stops.set_index('stop_id').stop_name\n",
    "aug_stop_times = stop_times.assign(stop_name=stop_times.stop_id.map(lambda v: stop_names[v]))"
   ]
  },
  {
   "cell_type": "code",
   "execution_count": 63,
   "metadata": {},
   "outputs": [],
   "source": [
    "import geopandas as gpd\n",
    "import shapely as shp"
   ]
  },
  {
   "cell_type": "code",
   "execution_count": 84,
   "metadata": {},
   "outputs": [],
   "source": [
    "aug_stops = gpd.GeoDataFrame(\n",
    "    stops,\n",
    "    geometry=[shp.geometry.Point(x, y) for (_, (y, x)) in stops[['stop_lat', 'stop_lon']].iterrows()]\n",
    ")"
   ]
  },
  {
   "cell_type": "code",
   "execution_count": 88,
   "metadata": {},
   "outputs": [
    {
     "data": {
      "text/html": [
       "<div>\n",
       "<style scoped>\n",
       "    .dataframe tbody tr th:only-of-type {\n",
       "        vertical-align: middle;\n",
       "    }\n",
       "\n",
       "    .dataframe tbody tr th {\n",
       "        vertical-align: top;\n",
       "    }\n",
       "\n",
       "    .dataframe thead th {\n",
       "        text-align: right;\n",
       "    }\n",
       "</style>\n",
       "<table border=\"1\" class=\"dataframe\">\n",
       "  <thead>\n",
       "    <tr style=\"text-align: right;\">\n",
       "      <th></th>\n",
       "      <th>stop_id</th>\n",
       "      <th>stop_name</th>\n",
       "      <th>stop_lat</th>\n",
       "      <th>stop_lon</th>\n",
       "      <th>geometry</th>\n",
       "    </tr>\n",
       "  </thead>\n",
       "  <tbody>\n",
       "    <tr>\n",
       "      <th>0</th>\n",
       "      <td>LittleRoady-201905060001</td>\n",
       "      <td>RIDOT</td>\n",
       "      <td>41.831750</td>\n",
       "      <td>-71.414200</td>\n",
       "      <td>POINT (-71.41419999999999 41.83175)</td>\n",
       "    </tr>\n",
       "    <tr>\n",
       "      <th>1</th>\n",
       "      <td>LittleRoady-201905060002</td>\n",
       "      <td>Promenade</td>\n",
       "      <td>41.828650</td>\n",
       "      <td>-71.420314</td>\n",
       "      <td>POINT (-71.420314 41.82865)</td>\n",
       "    </tr>\n",
       "    <tr>\n",
       "      <th>2</th>\n",
       "      <td>LittleRoady-201905060003</td>\n",
       "      <td>ALCO</td>\n",
       "      <td>41.829120</td>\n",
       "      <td>-71.431341</td>\n",
       "      <td>POINT (-71.4313405 41.82912)</td>\n",
       "    </tr>\n",
       "    <tr>\n",
       "      <th>3</th>\n",
       "      <td>LittleRoady-201905060004</td>\n",
       "      <td>Eagle Square</td>\n",
       "      <td>41.825125</td>\n",
       "      <td>-71.439420</td>\n",
       "      <td>POINT (-71.43942 41.825125)</td>\n",
       "    </tr>\n",
       "    <tr>\n",
       "      <th>4</th>\n",
       "      <td>LittleRoady-201905060005</td>\n",
       "      <td>Rising Sun Mills</td>\n",
       "      <td>41.821700</td>\n",
       "      <td>-71.440100</td>\n",
       "      <td>POINT (-71.4401 41.8217)</td>\n",
       "    </tr>\n",
       "    <tr>\n",
       "      <th>5</th>\n",
       "      <td>LittleRoady-201905060006</td>\n",
       "      <td>Olneyville Square</td>\n",
       "      <td>41.816800</td>\n",
       "      <td>-71.442917</td>\n",
       "      <td>POINT (-71.44291700000001 41.8168)</td>\n",
       "    </tr>\n",
       "    <tr>\n",
       "      <th>6</th>\n",
       "      <td>LittleRoady-201905060007</td>\n",
       "      <td>US Rubber</td>\n",
       "      <td>41.826450</td>\n",
       "      <td>-71.438275</td>\n",
       "      <td>POINT (-71.438275 41.82645)</td>\n",
       "    </tr>\n",
       "    <tr>\n",
       "      <th>7</th>\n",
       "      <td>LittleRoady-201905060008</td>\n",
       "      <td>Capco</td>\n",
       "      <td>41.828460</td>\n",
       "      <td>-71.428143</td>\n",
       "      <td>POINT (-71.42814300000001 41.82846)</td>\n",
       "    </tr>\n",
       "    <tr>\n",
       "      <th>8</th>\n",
       "      <td>LittleRoady-201905060009</td>\n",
       "      <td>Providence Place</td>\n",
       "      <td>41.828475</td>\n",
       "      <td>-71.421990</td>\n",
       "      <td>POINT (-71.42199000000001 41.828475)</td>\n",
       "    </tr>\n",
       "    <tr>\n",
       "      <th>9</th>\n",
       "      <td>LittleRoady-201905060010</td>\n",
       "      <td>Providence Station</td>\n",
       "      <td>41.829516</td>\n",
       "      <td>-71.413585</td>\n",
       "      <td>POINT (-71.413585 41.829516)</td>\n",
       "    </tr>\n",
       "  </tbody>\n",
       "</table>\n",
       "</div>"
      ],
      "text/plain": [
       "                    stop_id           stop_name   stop_lat   stop_lon  \\\n",
       "0  LittleRoady-201905060001               RIDOT  41.831750 -71.414200   \n",
       "1  LittleRoady-201905060002           Promenade  41.828650 -71.420314   \n",
       "2  LittleRoady-201905060003                ALCO  41.829120 -71.431341   \n",
       "3  LittleRoady-201905060004        Eagle Square  41.825125 -71.439420   \n",
       "4  LittleRoady-201905060005    Rising Sun Mills  41.821700 -71.440100   \n",
       "5  LittleRoady-201905060006   Olneyville Square  41.816800 -71.442917   \n",
       "6  LittleRoady-201905060007           US Rubber  41.826450 -71.438275   \n",
       "7  LittleRoady-201905060008               Capco  41.828460 -71.428143   \n",
       "8  LittleRoady-201905060009    Providence Place  41.828475 -71.421990   \n",
       "9  LittleRoady-201905060010  Providence Station  41.829516 -71.413585   \n",
       "\n",
       "                               geometry  \n",
       "0   POINT (-71.41419999999999 41.83175)  \n",
       "1           POINT (-71.420314 41.82865)  \n",
       "2          POINT (-71.4313405 41.82912)  \n",
       "3           POINT (-71.43942 41.825125)  \n",
       "4              POINT (-71.4401 41.8217)  \n",
       "5    POINT (-71.44291700000001 41.8168)  \n",
       "6           POINT (-71.438275 41.82645)  \n",
       "7   POINT (-71.42814300000001 41.82846)  \n",
       "8  POINT (-71.42199000000001 41.828475)  \n",
       "9          POINT (-71.413585 41.829516)  "
      ]
     },
     "execution_count": 88,
     "metadata": {},
     "output_type": "execute_result"
    }
   ],
   "source": [
    "aug_stops"
   ]
  },
  {
   "cell_type": "code",
   "execution_count": 104,
   "metadata": {},
   "outputs": [],
   "source": [
    "pd.set_option('max_rows', 500)"
   ]
  },
  {
   "cell_type": "code",
   "execution_count": 283,
   "metadata": {
    "scrolled": false
   },
   "outputs": [],
   "source": [
    "# list(aug_stop_times.groupby('trip_id'))[0][1]"
   ]
  },
  {
   "cell_type": "code",
   "execution_count": 284,
   "metadata": {},
   "outputs": [],
   "source": [
    "# list(aug_stop_times.groupby('trip_id'))[1][1]"
   ]
  },
  {
   "cell_type": "code",
   "execution_count": 285,
   "metadata": {},
   "outputs": [],
   "source": [
    "# len(list(aug_stop_times.groupby('trip_id')))"
   ]
  },
  {
   "cell_type": "code",
   "execution_count": 286,
   "metadata": {},
   "outputs": [],
   "source": [
    "# list(aug_stop_times.groupby('trip_id'))[2][1]"
   ]
  },
  {
   "cell_type": "code",
   "execution_count": 287,
   "metadata": {
    "scrolled": false
   },
   "outputs": [],
   "source": [
    "# list(aug_stop_times.groupby('trip_id'))[3][1]"
   ]
  },
  {
   "cell_type": "code",
   "execution_count": 288,
   "metadata": {
    "scrolled": false
   },
   "outputs": [],
   "source": [
    "# list(aug_stop_times.groupby('trip_id'))[4][1]"
   ]
  },
  {
   "cell_type": "code",
   "execution_count": 289,
   "metadata": {
    "scrolled": false
   },
   "outputs": [],
   "source": [
    "# list(aug_stop_times.groupby('trip_id'))[5][1]"
   ]
  },
  {
   "cell_type": "code",
   "execution_count": 290,
   "metadata": {
    "scrolled": false
   },
   "outputs": [],
   "source": [
    "# list(aug_stop_times.groupby('trip_id'))[6][1]"
   ]
  },
  {
   "cell_type": "code",
   "execution_count": 291,
   "metadata": {
    "scrolled": false
   },
   "outputs": [],
   "source": [
    "# list(aug_stop_times.groupby('trip_id'))[7][1]"
   ]
  },
  {
   "cell_type": "code",
   "execution_count": 119,
   "metadata": {},
   "outputs": [
    {
     "data": {
      "text/html": [
       "<div>\n",
       "<style scoped>\n",
       "    .dataframe tbody tr th:only-of-type {\n",
       "        vertical-align: middle;\n",
       "    }\n",
       "\n",
       "    .dataframe tbody tr th {\n",
       "        vertical-align: top;\n",
       "    }\n",
       "\n",
       "    .dataframe thead th {\n",
       "        text-align: right;\n",
       "    }\n",
       "</style>\n",
       "<table border=\"1\" class=\"dataframe\">\n",
       "  <thead>\n",
       "    <tr style=\"text-align: right;\">\n",
       "      <th></th>\n",
       "      <th>route_id</th>\n",
       "      <th>agency_id</th>\n",
       "      <th>route_type</th>\n",
       "      <th>route_short_name</th>\n",
       "      <th>route_long_name</th>\n",
       "    </tr>\n",
       "  </thead>\n",
       "  <tbody>\n",
       "    <tr>\n",
       "      <th>0</th>\n",
       "      <td>LittleRoady-2019-2020</td>\n",
       "      <td>LittleRoady-20190513</td>\n",
       "      <td>3</td>\n",
       "      <td>LR</td>\n",
       "      <td>LittleRoady</td>\n",
       "    </tr>\n",
       "  </tbody>\n",
       "</table>\n",
       "</div>"
      ],
      "text/plain": [
       "                route_id             agency_id  route_type route_short_name  \\\n",
       "0  LittleRoady-2019-2020  LittleRoady-20190513           3               LR   \n",
       "\n",
       "  route_long_name  \n",
       "0     LittleRoady  "
      ]
     },
     "execution_count": 119,
     "metadata": {},
     "output_type": "execute_result"
    }
   ],
   "source": [
    "pd.read_csv('/Users/alex/Downloads/LittleRoady_GTSF/routes.txt')"
   ]
  },
  {
   "cell_type": "code",
   "execution_count": 130,
   "metadata": {},
   "outputs": [],
   "source": [
    "RIDOT_idx = stop_times.stop_id.str[-2:] == '01'\n",
    "Olneyville_Square_idx = stop_times.stop_id.str[-2:] == '06'"
   ]
  },
  {
   "cell_type": "code",
   "execution_count": 138,
   "metadata": {},
   "outputs": [
    {
     "data": {
      "text/plain": [
       "array([  5,  17,  29,  41,  53,  65,  77,  89, 101, 113, 125, 137, 149,\n",
       "       161, 173, 181, 193, 205, 217, 225, 237, 249, 261, 273, 291, 303,\n",
       "       315, 327, 339, 351, 363, 375, 387, 399, 411, 423, 435, 447, 459,\n",
       "       471, 483, 495, 507, 519, 531, 543, 555, 567, 579, 591, 603, 615,\n",
       "       631, 643, 655, 667, 679, 691, 703, 715, 727, 739, 751, 763, 775,\n",
       "       787, 803, 815, 827, 839, 851, 863, 869, 881, 893, 905, 917, 929])"
      ]
     },
     "execution_count": 138,
     "metadata": {},
     "output_type": "execute_result"
    }
   ],
   "source": [
    "import numpy as np\n",
    "np.where(RIDOT_idx)[0][1:]"
   ]
  },
  {
   "cell_type": "code",
   "execution_count": 139,
   "metadata": {},
   "outputs": [
    {
     "data": {
      "text/plain": [
       "array([ 10,  22,  34,  46,  58,  70,  82,  94, 106, 118, 130, 142, 154,\n",
       "       166, 186, 198, 210, 222, 230, 242, 254, 266, 278, 284, 296, 308,\n",
       "       320, 332, 344, 356, 368, 380, 392, 404, 416, 428, 440, 452, 464,\n",
       "       476, 488, 500, 512, 524, 536, 548, 560, 572, 584, 596, 608, 620,\n",
       "       624, 636, 648, 660, 672, 684, 696, 708, 720, 732, 744, 756, 768,\n",
       "       780, 792, 808, 820, 832, 844, 856, 874, 886, 898, 910, 922, 934])"
      ]
     },
     "execution_count": 139,
     "metadata": {},
     "output_type": "execute_result"
    }
   ],
   "source": [
    "np.where(Olneyville_Square_idx)[0]"
   ]
  },
  {
   "cell_type": "code",
   "execution_count": 199,
   "metadata": {},
   "outputs": [],
   "source": [
    "n = ['06', '05', '07', '03', '08', '09', '10', '01']\n",
    "n_transitions = []\n",
    "for i in range(1, len(n)):\n",
    "    n_transitions.append([n[i - 1], n[i]])\n",
    "    \n",
    "s = ['01', '02', '03', '04', '05', '06']\n",
    "s_transitions = []\n",
    "for i in range(1, len(s)):\n",
    "    s_transitions.append([s[i - 1], s[i]])\n",
    "\n",
    "\n",
    "def get_edges(inp):\n",
    "    edges = []\n",
    "\n",
    "    prior_stop_id = None\n",
    "    prior_edge = None\n",
    "    for i in range(len(inp)):\n",
    "        stop_id = inp.iloc[i].stop_id\n",
    "\n",
    "        if prior_stop_id == None:\n",
    "            prior_stop_id = stop_id\n",
    "            prior_i = i\n",
    "            continue\n",
    "        elif stop_id[-2:] == '01':\n",
    "            edges.append((prior_i, i + 1, 'N'))\n",
    "            prior_stop_id = stop_id\n",
    "            prior_i = i\n",
    "        elif stop_id[-2:] == '06':\n",
    "            edges.append((prior_i, i + 1, 'S'))\n",
    "            prior_stop_id = stop_id\n",
    "            prior_i = i\n",
    "\n",
    "    if prior_i != i:\n",
    "        if ([inp.iloc[i - 1].stop_id[-2:], inp.iloc[i].stop_id[-2:]] in s_transitions):\n",
    "            edges.append((prior_i, i, 'S'))\n",
    "        elif ([inp.iloc[i - 1].stop_id[-2:], inp.iloc[i].stop_id[-2:]] in n_transitions):\n",
    "            edges.append((prior_i, i, 'N'))\n",
    "        else:\n",
    "            raise ValueError\n",
    "        \n",
    "    return edges"
   ]
  },
  {
   "cell_type": "code",
   "execution_count": 200,
   "metadata": {},
   "outputs": [],
   "source": [
    "edgelists = []\n",
    "for i in range(8):\n",
    "    edgelists.append(get_edges(list(aug_stop_times.groupby('trip_id'))[i][1]))"
   ]
  },
  {
   "cell_type": "code",
   "execution_count": 259,
   "metadata": {},
   "outputs": [],
   "source": [
    "stop_times_sliced_by_trip_id = [tup[1] for tup in list(aug_stop_times.groupby('trip_id'))]"
   ]
  },
  {
   "cell_type": "code",
   "execution_count": 300,
   "metadata": {},
   "outputs": [],
   "source": [
    "new_stop_times = []\n",
    "\n",
    "for (slice_idx, edgelist) in enumerate(edgelists):\n",
    "    for (trip_idx, (first, last, direction)) in enumerate(edgelist):\n",
    "        orig_record = stop_times_sliced_by_trip_id[slice_idx].iloc[first:last]\n",
    "        if len(orig_record) > 1:\n",
    "            new_stop_times.append(\n",
    "                orig_record.assign(\n",
    "                    trip_id=orig_record.trip_id.map(lambda v: v + f'_{trip_idx}_{direction}'),\n",
    "                    stop_sequence=[v + 1 for v in range(len(orig_record))]\n",
    "                )\n",
    "            )\n",
    "\n",
    "new_stop_times = pd.concat(new_stop_times).drop('stop_name', axis='columns')"
   ]
  },
  {
   "cell_type": "code",
   "execution_count": 311,
   "metadata": {
    "scrolled": false
   },
   "outputs": [],
   "source": [
    "trip_ids = new_stop_times.trip_id.unique()\n",
    "\n",
    "new_trips = pd.DataFrame({\n",
    "    'route_id': ['LittleRoady-2019-2020'] * len(trip_ids),\n",
    "    'service_id': [1] * len(trip_ids),\n",
    "    'trip_id': trip_ids,\n",
    "})"
   ]
  },
  {
   "cell_type": "code",
   "execution_count": 306,
   "metadata": {},
   "outputs": [],
   "source": [
    "%mkdir data/"
   ]
  },
  {
   "cell_type": "code",
   "execution_count": 313,
   "metadata": {},
   "outputs": [],
   "source": [
    "new_trips.to_csv('data/trips.txt', index=False)"
   ]
  },
  {
   "cell_type": "code",
   "execution_count": 314,
   "metadata": {},
   "outputs": [
    {
     "data": {
      "text/plain": [
       "936"
      ]
     },
     "execution_count": 314,
     "metadata": {},
     "output_type": "execute_result"
    }
   ],
   "source": [
    "len(stop_times)"
   ]
  },
  {
   "cell_type": "code",
   "execution_count": 315,
   "metadata": {},
   "outputs": [
    {
     "data": {
      "text/plain": [
       "1080"
      ]
     },
     "execution_count": 315,
     "metadata": {},
     "output_type": "execute_result"
    }
   ],
   "source": [
    "len(new_stop_times)"
   ]
  },
  {
   "cell_type": "code",
   "execution_count": 317,
   "metadata": {},
   "outputs": [],
   "source": [
    "new_stop_times.to_csv('data/stop_times.txt', index=False)"
   ]
  },
  {
   "cell_type": "markdown",
   "metadata": {},
   "source": [
    "...then copy over the original files I got sent for all of the other info (routes, agency, calendar, etcetera)."
   ]
  }
 ],
 "metadata": {
  "kernelspec": {
   "display_name": "Python 3",
   "language": "python",
   "name": "python3"
  },
  "language_info": {
   "codemirror_mode": {
    "name": "ipython",
    "version": 3
   },
   "file_extension": ".py",
   "mimetype": "text/x-python",
   "name": "python",
   "nbconvert_exporter": "python",
   "pygments_lexer": "ipython3",
   "version": "3.6.7"
  }
 },
 "nbformat": 4,
 "nbformat_minor": 2
}
